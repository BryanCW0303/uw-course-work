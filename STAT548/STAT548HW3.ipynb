{
 "cells": [
  {
   "cell_type": "code",
   "execution_count": 233,
   "id": "e1d0796c-448e-4f96-bcdb-2ecf740a0c54",
   "metadata": {},
   "outputs": [],
   "source": [
    "import numpy as np\n",
    "from numpy.random import default_rng\n",
    "import pandas as pd\n",
    "import csv"
   ]
  },
  {
   "cell_type": "code",
   "execution_count": 234,
   "id": "158554fb-6ebf-47b4-a809-e3213fc9763a",
   "metadata": {},
   "outputs": [
    {
     "name": "stdout",
     "output_type": "stream",
     "text": [
      "you may shoot me with your words you may cut me with your eyes leaving behind nights of terror and fear i risepe un picior de plai  pe o gura de rai\n"
     ]
    }
   ],
   "source": [
    "doc_list = []\n",
    "doc1 = \"You may shoot me with your words,\"\n",
    "doc2 = \"You may cut me with your eyes,\"\n",
    "doc3 = \"Leaving behind nights of terror and fear I rise\"\n",
    "doc4 = \"Pe-un picior de plai, pe-o gura de rai\"\n",
    "doc_list = [doc1, doc2, doc3, doc4]\n",
    "num_docs = len(doc_list)\n",
    "doc = \"\".join(doc_list).lower().replace(\",\", \" \").replace(\"-\", \" \")\n",
    "print(doc)"
   ]
  },
  {
   "cell_type": "code",
   "execution_count": 235,
   "id": "b200d4c1-01bf-492f-a449-50953e19dc46",
   "metadata": {},
   "outputs": [
    {
     "name": "stdout",
     "output_type": "stream",
     "text": [
      "126\n",
      "['cut ', 'lai ', ' de ', ' un ', 'pe o', 'eavi', 'e wi', 'ear ', ' me ', 's le', ' wit', 'es l', 'or a', 'ar i', 'r an', 'and ', 'you ', ' lea', ' ris', 'rise', 'ith ', 'epe ', 'ts o', 'nd f', 'ror ', ' i r', 'd ni', 'ay c', ' pe ', 'd fe', 'g be', 'cior', 'r i ', 'gura', ' o g', 'hts ', ' you', 'of t', 'ehin', 'r ey', 'ura ', 'our ', 'leav', '  pe', ' nig', 'e ra', 'yes ', 'e o ', 'hind', 'avin', 'i  p', 'plai', ' may', 'isep', 'fear', 'e pl', ' cut', 's yo', 'ut m', 'terr', ' sho', 'rror', 'ay s', ' pla', 'ghts', 'de p', 'word', 'o gu', ' eye', 'ords', ' wor', 'ving', 'r de', 'r wo', 'with', 'y sh', ' fea', 'ot m', 't me', 'nigh', 'pe u', 'behi', 's of', 'shoo', ' and', ' rai', 'ai  ', 'de r', 'th y', 'ou m', 'un p', ' of ', 'e un', 'pici', 'ing ', 'ind ', 'sepe', 'erro', ' pic', 'nd n', 'or d', 'i ri', 'f te', 'h yo', 'ra d', 'your', 'may ', 'icio', 'me w', 'ng b', 'eyes', 'n pi', 'ur w', 'y cu', ' ter', 'ur e', 'ds y', 'rds ', 'u ma', 'ight', 'a de', 'hoot', 'oot ', 'ior ', ' gur', ' beh']\n",
      "[1, 2, 3, 4, 5, 6, 7, 8, 9, 10, 11, 12, 13, 14, 15, 16, 17, 18, 19, 20, 21, 22, 23, 24, 25, 26, 27, 28, 29, 30, 31, 32, 33, 34, 35, 36, 37, 38, 39, 40, 41, 42, 43, 44, 45, 46, 47, 48, 49, 50, 51, 52, 53, 54, 55, 56, 57, 58, 59, 60, 61, 62, 63, 64, 65, 66, 67, 68, 69, 70, 71, 72, 73, 74, 75, 76, 77, 78, 79, 80, 81, 82, 83, 84, 85, 86, 87, 88, 89, 90, 91, 92, 93, 94, 95, 96, 97, 98, 99, 100, 101, 102, 103, 104, 105, 106, 107, 108, 109, 110, 111, 112, 113, 114, 115, 116, 117, 118, 119, 120, 121, 122, 123, 124, 125, 126]\n"
     ]
    }
   ],
   "source": [
    "k = 4\n",
    "shingles = set()\n",
    "shingles = {doc[i:i+k] for i in range(len(doc) - k + 1)}\n",
    "\n",
    "shingles_list = list(shingles)\n",
    "\n",
    "d_prime = len(shingles_list)\n",
    "shingles_index = [0] * d_prime\n",
    "for idx in range(1, d_prime + 1):\n",
    "    shingles_index[idx-1] = idx\n",
    "\n",
    "print(d_prime)\n",
    "print(shingles_list)\n",
    "print(shingles_index)"
   ]
  },
  {
   "cell_type": "code",
   "execution_count": 236,
   "id": "25f5a93e-9062-4675-b965-2f95afd9b85d",
   "metadata": {},
   "outputs": [],
   "source": [
    "out_path = 'shingles_table.csv'\n",
    "with open(out_path, 'w', newline = '', encoding = 'utf-8') as f:\n",
    "    writer = csv.writer(f)\n",
    "    writer.writerow([len(shingles_list)])\n",
    "    for x, idx in zip(shingles_list, shingles_index):\n",
    "        writer.writerow([x, idx])"
   ]
  },
  {
   "cell_type": "code",
   "execution_count": 237,
   "id": "c5b1cf17-93ab-4cf7-b245-d1ad1c6d8e5a",
   "metadata": {},
   "outputs": [
    {
     "name": "stdout",
     "output_type": "stream",
     "text": [
      "[[1.    0.425 0.    0.   ]\n",
      " [0.425 1.    0.    0.   ]\n",
      " [0.    0.    1.    0.   ]\n",
      " [0.    0.    0.    1.   ]]\n"
     ]
    }
   ],
   "source": [
    "size = d_prime\n",
    "c = [[0 for _ in range(size)] for _ in range(num_docs)]\n",
    "for i, doc in enumerate(doc_list):\n",
    "    doc = doc.lower().replace(\",\", \" \").replace(\"-\", \" \")\n",
    "    for j, s in zip(shingles_index, shingles_list):\n",
    "        if s in doc:\n",
    "            c[i][j-1] = 1\n",
    "\n",
    "def get_jaccard(v1, v2):\n",
    "    x = np.logical_and(v1, v2).sum()\n",
    "    y = np.logical_or(v1, v2).sum()\n",
    "    return x / y\n",
    "    \n",
    "c = np.array(c, dtype = int)\n",
    "J = [[0 for _ in range(num_docs)] for _ in range(num_docs)]\n",
    "for i in range(num_docs):\n",
    "    for j in range(num_docs):\n",
    "        J[i][j] = jaccard(c[i], c[j])\n",
    "J = np.array(J, dtype = float)\n",
    "print(J)"
   ]
  },
  {
   "cell_type": "code",
   "execution_count": 238,
   "id": "80af6ae1-9e11-47d6-82a3-435bb1690a5e",
   "metadata": {},
   "outputs": [
    {
     "name": "stdout",
     "output_type": "stream",
     "text": [
      "L = 4\n",
      "x1 = [0, 4, 2, 0]\n",
      "x2 = [0, 2, 1, 15]\n",
      "x3 = [8, 0, 7, 2]\n",
      "x4 = [5, 3, 8, 1]\n",
      "L = 10\n",
      "x1 = [0, 4, 2, 0, 1, 4, 18, 4, 1, 0]\n",
      "x2 = [0, 2, 1, 15, 0, 1, 0, 3, 8, 0]\n",
      "x3 = [8, 0, 7, 2, 2, 2, 1, 1, 4, 1]\n",
      "x4 = [5, 3, 8, 1, 4, 0, 4, 0, 0, 4]\n"
     ]
    }
   ],
   "source": [
    "def get_minhash_signatures(c, L, seed = 0):\n",
    "    num_docs, size = c.shape\n",
    "    rng = default_rng(seed)\n",
    "    perms = [rng.permutation(np.arange(1, size + 1)) for _ in range(L)]\n",
    "    M = np.zeros((num_docs, L), dtype = int)\n",
    "    for i in range(num_docs):\n",
    "        for j in range(L):\n",
    "            for k, perm_idx in enumerate(perms[j]):\n",
    "                if c[i, perm_idx-1] == 1:\n",
    "                    M[i, j] = k\n",
    "                    break\n",
    "                else:\n",
    "                    M[i, j] = size\n",
    "    return M\n",
    "\n",
    "min_hash1 = get_minhash_signatures(c, L = 4, seed = 2427348)\n",
    "min_hash2 = get_minhash_signatures(c, L = 10, seed = 2427348)\n",
    "\n",
    "print('L = 4')\n",
    "for i in range(num_docs):\n",
    "    print(f\"x{i+1} =\", min_hash1[i].tolist())\n",
    "print('L = 10')\n",
    "for i in range(num_docs):\n",
    "    print(f\"x{i+1} =\", min_hash2[i].tolist())"
   ]
  },
  {
   "cell_type": "code",
   "execution_count": 239,
   "id": "081a09fb-b6d5-44a9-bc76-45ea0a718b6d",
   "metadata": {},
   "outputs": [
    {
     "name": "stdout",
     "output_type": "stream",
     "text": [
      "L = 4\n",
      "[[1.   0.25 0.   0.  ]\n",
      " [0.25 1.   0.   0.  ]\n",
      " [0.   0.   1.   0.  ]\n",
      " [0.   0.   0.   1.  ]]\n",
      "L = 10\n",
      "[[1.  0.2 0.  0. ]\n",
      " [0.2 1.  0.  0. ]\n",
      " [0.  0.  1.  0. ]\n",
      " [0.  0.  0.  1. ]]\n"
     ]
    }
   ],
   "source": [
    "def get_jaccard_from_signature(M):\n",
    "    J = np.zeros((num_docs, num_docs), dtype = float)\n",
    "    for i in range(num_docs):\n",
    "        for j in range(num_docs):\n",
    "            J[i, j] = np.mean(M[i] == M[j])\n",
    "    return J\n",
    "\n",
    "J1 = get_jaccard_from_signature(min_hash1)\n",
    "J2 = get_jaccard_from_signature(min_hash2)\n",
    "print('L = 4')\n",
    "print(J1)\n",
    "print('L = 10')\n",
    "print(J2)"
   ]
  }
 ],
 "metadata": {
  "kernelspec": {
   "display_name": "pytorch",
   "language": "python",
   "name": "pytorch"
  },
  "language_info": {
   "codemirror_mode": {
    "name": "ipython",
    "version": 3
   },
   "file_extension": ".py",
   "mimetype": "text/x-python",
   "name": "python",
   "nbconvert_exporter": "python",
   "pygments_lexer": "ipython3",
   "version": "3.9.21"
  }
 },
 "nbformat": 4,
 "nbformat_minor": 5
}
