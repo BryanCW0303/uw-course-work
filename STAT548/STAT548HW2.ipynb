{
 "cells": [
  {
   "cell_type": "code",
   "execution_count": 3,
   "id": "65e58097-f750-4976-a122-fb8edabf521e",
   "metadata": {},
   "outputs": [],
   "source": [
    "import numpy as np\n",
    "import pandas as pd\n",
    "import matplotlib.pyplot as plt\n",
    "import time\n",
    "import csv"
   ]
  },
  {
   "cell_type": "code",
   "execution_count": 4,
   "id": "04820cfb-da5f-47d3-b67b-902a7981dd56",
   "metadata": {},
   "outputs": [],
   "source": [
    "path1 = r\"C:\\Users\\ncwbr\\Desktop\\hw3-mnist-data.csv\"\n",
    "path2 = r\"C:\\Users\\ncwbr\\Desktop\\hw3-mnist-query.csv\"\n",
    "data = np.loadtxt(path1, delimiter=\",\")\n",
    "query = np.loadtxt(path2, delimiter=\",\")"
   ]
  },
  {
   "cell_type": "code",
   "execution_count": 5,
   "id": "d0e4c951-3742-4175-8ccb-c0c4eeceb256",
   "metadata": {},
   "outputs": [
    {
     "name": "stdout",
     "output_type": "stream",
     "text": [
      "t_bf = 50.3418 seconds\n"
     ]
    }
   ],
   "source": [
    "def brute_force(data, query, r):\n",
    "    neighbors = []\n",
    "\n",
    "    for x in query:\n",
    "        d = np.sqrt(np.sum((x - data) ** 2, axis = 1))\n",
    "        index = np.where(d <= r)[0]\n",
    "        neighbors.append(index.tolist())\n",
    "    return neighbors\n",
    "\n",
    "r = 8\n",
    "start = time.time()\n",
    "bf_neighbors = brute_force(data, query, r)\n",
    "end = time.time()\n",
    "t_bf = end - start\n",
    "\n",
    "print(f\"t_bf = {t_bf:.4f} seconds\")"
   ]
  },
  {
   "cell_type": "code",
   "execution_count": 18,
   "id": "ed36c936-502c-4e3b-9c56-a2e60a33f47f",
   "metadata": {},
   "outputs": [],
   "source": [
    "with open(\"bf-out.csv\", \"w\", newline=\"\") as f:\n",
    "    writer = csv.writer(f, delimiter=\" \")\n",
    "    writer.writerows(bf_neighbors)\n",
    "\n",
    "max_cols = max(len(r) for r in bf_neighbors)\n",
    "rows = [ row + [\"\"]*(max_cols - len(row)) for row in bf_neighbors]\n",
    "df = pd.DataFrame(rows)\n",
    "df.to_excel(\"bf-out.xlsx\", index=False, header=False)"
   ]
  },
  {
   "cell_type": "code",
   "execution_count": 7,
   "id": "4747e2dc-86d9-4fc4-937b-4b3220991945",
   "metadata": {},
   "outputs": [],
   "source": [
    "L, K, r = 200, 20, 8\n",
    "n, d = data.shape\n",
    "w = np.random.randn(L, K, d)\n",
    "b = np.random.rand(L, K) * r\n",
    "\n",
    "def lsh_bins(data, query, L, K, r):\n",
    "    bins = [{} for _ in range(L)]\n",
    "\n",
    "    for i in range(n):\n",
    "        x = data[i]\n",
    "        for l in range(L):\n",
    "            code = np.floor((w[l] @ x + b[l]) / r).astype(int)\n",
    "            key = tuple(code.tolist())\n",
    "            if key not in bins[l]:\n",
    "                bins[l][key] = []\n",
    "            bins[l][key].append(i)\n",
    "            \n",
    "    return bins\n",
    "\n",
    "bins = lsh_bins(data, query, L, K, r)"
   ]
  },
  {
   "cell_type": "code",
   "execution_count": 12,
   "id": "e85ce537-f1d6-424a-b5df-5a04f8b8c8c4",
   "metadata": {},
   "outputs": [
    {
     "name": "stdout",
     "output_type": "stream",
     "text": [
      "t_lsh = 2.4182 seconds\n"
     ]
    }
   ],
   "source": [
    "def lsh(bins, data, query, L, K, r):\n",
    "    neighbors = []\n",
    "    \n",
    "    for x in query:\n",
    "        cand = set()\n",
    "        for l in range(L):\n",
    "            code = np.floor((w[l] @ x + b[l]) / r).astype(int)\n",
    "            key = tuple(code.tolist())\n",
    "            bucket = bins[l].get(key)\n",
    "            if bucket:\n",
    "                for y in bucket:\n",
    "                    cand.add(y)\n",
    "        neighbors.append(sorted(cand))\n",
    "            \n",
    "    return neighbors\n",
    "\n",
    "start = time.time()\n",
    "lsh_neighbors = lsh(bins, data, query, L, K, r)\n",
    "end = time.time()\n",
    "t_lsh = end - start\n",
    "\n",
    "print(f\"t_lsh = {t_lsh:.4f} seconds\")"
   ]
  },
  {
   "cell_type": "code",
   "execution_count": 19,
   "id": "de6cfcc2-454a-4ea7-96e3-e1baa2c62266",
   "metadata": {},
   "outputs": [],
   "source": [
    "with open(\"lsh-out.csv\", \"w\", newline=\"\") as f:\n",
    "    writer = csv.writer(f)   # default delimiter=\",\"\n",
    "    writer.writerows(lsh_neighbors)\n",
    "\n",
    "max_cols = max(len(r) for r in lsh_neighbors)\n",
    "rows = [ row + [\"\"]*(max_cols - len(row)) for row in lsh_neighbors]\n",
    "df = pd.DataFrame(rows)\n",
    "df.to_excel(\"lsh-out.xlsx\", index=False, header=False)"
   ]
  },
  {
   "cell_type": "code",
   "execution_count": 16,
   "id": "37f755fc-6fe7-4a7e-998b-a9260dd2de99",
   "metadata": {},
   "outputs": [
    {
     "name": "stdout",
     "output_type": "stream",
     "text": [
      "0.013822417574015443\n",
      "1.0775862068965517e-07\n"
     ]
    }
   ],
   "source": [
    "p1_list = []\n",
    "p2_list = []\n",
    "\n",
    "for bf_n, lsh_n in zip(bf_neighbors, lsh_neighbors):\n",
    "    neigh = set(bf_n)\n",
    "    neigh_p = set(lsh_n)\n",
    "\n",
    "    if len(neigh) > 0:\n",
    "        p1_list.append(len(neigh & neigh_p) / len(neigh))\n",
    "    else:\n",
    "        p1_list.append(0.0)\n",
    "\n",
    "    d = n - len(neigh)\n",
    "    if d > 0:\n",
    "        p2_list.append( len(neigh_p - neigh) / d)\n",
    "    else:\n",
    "        p2_list.append(0.0)\n",
    "\n",
    "p1 = sum(p1_list) / len(p1_list)\n",
    "p2 = sum(p2_list) / len(p2_list)\n",
    "print(p1)\n",
    "print(p2)"
   ]
  },
  {
   "cell_type": "code",
   "execution_count": null,
   "id": "5d7d0c74-a4e6-4be7-aaa7-dc53f923a3e8",
   "metadata": {},
   "outputs": [],
   "source": []
  }
 ],
 "metadata": {
  "kernelspec": {
   "display_name": "Python [conda env:base] *",
   "language": "python",
   "name": "conda-base-py"
  },
  "language_info": {
   "codemirror_mode": {
    "name": "ipython",
    "version": 3
   },
   "file_extension": ".py",
   "mimetype": "text/x-python",
   "name": "python",
   "nbconvert_exporter": "python",
   "pygments_lexer": "ipython3",
   "version": "3.12.7"
  }
 },
 "nbformat": 4,
 "nbformat_minor": 5
}
